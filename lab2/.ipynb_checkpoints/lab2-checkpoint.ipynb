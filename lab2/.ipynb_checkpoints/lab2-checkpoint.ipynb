{
 "cells": [
  {
   "cell_type": "code",
   "execution_count": 1,
   "id": "947a29e6",
   "metadata": {},
   "outputs": [],
   "source": [
    "import numpy as np\n",
    "import mnist_loader as ml"
   ]
  },
  {
   "cell_type": "code",
   "execution_count": 17,
   "id": "c8de7f08",
   "metadata": {},
   "outputs": [],
   "source": [
    "training_data, validation_data, test_data = ml.load_data_wrapper()"
   ]
  },
  {
   "cell_type": "code",
   "execution_count": 89,
   "id": "cdd7bca1",
   "metadata": {},
   "outputs": [],
   "source": [
    "class Layer:\n",
    "    \n",
    "    def __init__(self, weights):\n",
    "        \n",
    "        self.input = None\n",
    "        self.output = None\n",
    "        self.weights = weights\n",
    "        \n",
    "    def forwardPass(self, inputData):\n",
    "        \n",
    "        self.input = np.vstack(([1], inputData))\n",
    "        print(self.input)\n",
    "        net = self.weights @ self.input\n",
    "        print(net)\n",
    "        self.output = self.activation(net)\n",
    "        print(self.output)\n",
    "        \n",
    "    def activation(self, x):\n",
    "        \n",
    "        return 1/(1+np.exp(-x))\n",
    "    \n",
    "    def backwardPropagation(self, outputData, trueLabel, lr):\n",
    "        \n",
    "        diff = outputData - trueLabel\n",
    "        deriv1 = outputData * (1 - outputData) # derivative of sigmoid elementwise\n",
    "        delta = diff * deriv\n",
    "        deriv2 = delta @ self.input.T\n",
    "        new_weights = self.weights - lr * deriv2\n",
    "        deriv3 = self.weights.T @ delta\n",
    "        \n",
    "        return deriv3"
   ]
  },
  {
   "cell_type": "code",
   "execution_count": 90,
   "id": "369c6c18",
   "metadata": {},
   "outputs": [],
   "source": [
    "w1 = np.array([[0.1, -0.2, 0.3], [-0.4, 0.5, -0.6]])\n",
    "w2 = np.array([[0.15, -0.25, 0.35], [-0.45, 0.55, -0.65]])"
   ]
  },
  {
   "cell_type": "code",
   "execution_count": 91,
   "id": "e90550fe",
   "metadata": {},
   "outputs": [],
   "source": [
    "L1 = Layer(w1)\n",
    "L2 = Layer(w2)"
   ]
  },
  {
   "cell_type": "code",
   "execution_count": 92,
   "id": "7e199b5f",
   "metadata": {},
   "outputs": [],
   "source": [
    "inp1 = np.array([[1], [0]])"
   ]
  },
  {
   "cell_type": "code",
   "execution_count": 93,
   "id": "80874338",
   "metadata": {},
   "outputs": [
    {
     "name": "stdout",
     "output_type": "stream",
     "text": [
      "[[1]\n",
      " [1]\n",
      " [0]]\n",
      "[[-0.1]\n",
      " [ 0.1]]\n",
      "[[0.47502081]\n",
      " [0.52497919]]\n"
     ]
    }
   ],
   "source": [
    "L1.forwardPass(inp1)\n",
    "inp2 = L1.output"
   ]
  },
  {
   "cell_type": "code",
   "execution_count": 94,
   "id": "b7db026c",
   "metadata": {},
   "outputs": [
    {
     "name": "stdout",
     "output_type": "stream",
     "text": [
      "[[1.        ]\n",
      " [0.47502081]\n",
      " [0.52497919]]\n",
      "[[ 0.21498751]\n",
      " [-0.52997502]]\n",
      "[[0.55354082]\n",
      " [0.37052271]]\n"
     ]
    }
   ],
   "source": [
    "L2.forwardPass(inp2)\n",
    "out = L2.output"
   ]
  },
  {
   "cell_type": "code",
   "execution_count": 83,
   "id": "4809a099",
   "metadata": {},
   "outputs": [
    {
     "data": {
      "text/plain": [
       "array([[0.45387836],\n",
       "       [0.61538967]])"
      ]
     },
     "execution_count": 83,
     "metadata": {},
     "output_type": "execute_result"
    }
   ],
   "source": [
    "out"
   ]
  },
  {
   "cell_type": "code",
   "execution_count": null,
   "id": "d7e6da17",
   "metadata": {},
   "outputs": [],
   "source": []
  },
  {
   "cell_type": "code",
   "execution_count": null,
   "id": "4f4184ed",
   "metadata": {},
   "outputs": [],
   "source": []
  },
  {
   "cell_type": "code",
   "execution_count": null,
   "id": "cd85dbfc",
   "metadata": {},
   "outputs": [],
   "source": []
  },
  {
   "cell_type": "code",
   "execution_count": null,
   "id": "d089d5c0",
   "metadata": {},
   "outputs": [],
   "source": []
  },
  {
   "cell_type": "code",
   "execution_count": 19,
   "id": "e752dec1",
   "metadata": {},
   "outputs": [],
   "source": [
    "a, b = zip(*training_data)"
   ]
  },
  {
   "cell_type": "code",
   "execution_count": 22,
   "id": "ca6ee381",
   "metadata": {},
   "outputs": [
    {
     "data": {
      "text/plain": [
       "784"
      ]
     },
     "execution_count": 22,
     "metadata": {},
     "output_type": "execute_result"
    }
   ],
   "source": [
    "len(a[0])"
   ]
  },
  {
   "cell_type": "code",
   "execution_count": 23,
   "id": "ff25e5ed",
   "metadata": {},
   "outputs": [
    {
     "data": {
      "text/plain": [
       "array([[0.],\n",
       "       [0.],\n",
       "       [0.],\n",
       "       [0.],\n",
       "       [0.],\n",
       "       [1.],\n",
       "       [0.],\n",
       "       [0.],\n",
       "       [0.],\n",
       "       [0.]])"
      ]
     },
     "execution_count": 23,
     "metadata": {},
     "output_type": "execute_result"
    }
   ],
   "source": [
    "b[0]"
   ]
  },
  {
   "cell_type": "code",
   "execution_count": 24,
   "id": "fc7137e4",
   "metadata": {},
   "outputs": [],
   "source": [
    "test = a[0]"
   ]
  },
  {
   "cell_type": "code",
   "execution_count": 28,
   "id": "ab72e087",
   "metadata": {},
   "outputs": [],
   "source": [
    "test2 = np.vstack(([1],test))"
   ]
  },
  {
   "cell_type": "code",
   "execution_count": 31,
   "id": "ca819cd0",
   "metadata": {},
   "outputs": [
    {
     "data": {
      "text/plain": [
       "785"
      ]
     },
     "execution_count": 31,
     "metadata": {},
     "output_type": "execute_result"
    }
   ],
   "source": [
    "len(test2)"
   ]
  },
  {
   "cell_type": "code",
   "execution_count": 32,
   "id": "bbf468f2",
   "metadata": {},
   "outputs": [
    {
     "data": {
      "text/plain": [
       "array([0.1, 0.1, 0.1, 0.1, 0.1, 0.1, 0.1, 0.1, 0.1, 0.1])"
      ]
     },
     "execution_count": 32,
     "metadata": {},
     "output_type": "execute_result"
    }
   ],
   "source": [
    "np.array([0.1]*10)"
   ]
  },
  {
   "cell_type": "code",
   "execution_count": 39,
   "id": "315ed4a4",
   "metadata": {},
   "outputs": [
    {
     "data": {
      "text/plain": [
       "0.3318122278318339"
      ]
     },
     "execution_count": 39,
     "metadata": {},
     "output_type": "execute_result"
    }
   ],
   "source": [
    "1/(1+np.exp(0.7))"
   ]
  },
  {
   "cell_type": "code",
   "execution_count": 40,
   "id": "597d0ba1",
   "metadata": {},
   "outputs": [],
   "source": [
    "def activation(x):\n",
    "\n",
    "    return 1/(1+np.exp(x))"
   ]
  },
  {
   "cell_type": "code",
   "execution_count": 42,
   "id": "38832af5",
   "metadata": {},
   "outputs": [
    {
     "data": {
      "text/plain": [
       "array([[0.5       ],\n",
       "       [0.5       ],\n",
       "       [0.5       ],\n",
       "       [0.5       ],\n",
       "       [0.5       ],\n",
       "       [0.26894142],\n",
       "       [0.5       ],\n",
       "       [0.5       ],\n",
       "       [0.5       ],\n",
       "       [0.5       ]])"
      ]
     },
     "execution_count": 42,
     "metadata": {},
     "output_type": "execute_result"
    }
   ],
   "source": [
    "activation(b[0])"
   ]
  },
  {
   "cell_type": "code",
   "execution_count": 43,
   "id": "76550bfc",
   "metadata": {},
   "outputs": [
    {
     "data": {
      "text/plain": [
       "array([[0.],\n",
       "       [0.],\n",
       "       [0.],\n",
       "       [0.],\n",
       "       [0.],\n",
       "       [1.],\n",
       "       [0.],\n",
       "       [0.],\n",
       "       [0.],\n",
       "       [0.]])"
      ]
     },
     "execution_count": 43,
     "metadata": {},
     "output_type": "execute_result"
    }
   ],
   "source": [
    "b[0]"
   ]
  },
  {
   "cell_type": "code",
   "execution_count": 46,
   "id": "dae5f624",
   "metadata": {},
   "outputs": [
    {
     "data": {
      "text/plain": [
       "(784, 1)"
      ]
     },
     "execution_count": 46,
     "metadata": {},
     "output_type": "execute_result"
    }
   ],
   "source": [
    "a[0].shape"
   ]
  },
  {
   "cell_type": "code",
   "execution_count": 47,
   "id": "b3c69d30",
   "metadata": {},
   "outputs": [],
   "source": [
    "w = np.random.uniform(size=(10, 784))"
   ]
  },
  {
   "cell_type": "code",
   "execution_count": 48,
   "id": "fb400913",
   "metadata": {},
   "outputs": [
    {
     "data": {
      "text/plain": [
       "(10, 784)"
      ]
     },
     "execution_count": 48,
     "metadata": {},
     "output_type": "execute_result"
    }
   ],
   "source": [
    "w.shape"
   ]
  },
  {
   "cell_type": "code",
   "execution_count": 50,
   "id": "53754f73",
   "metadata": {},
   "outputs": [],
   "source": [
    "c = w @ a[0]"
   ]
  },
  {
   "cell_type": "code",
   "execution_count": 51,
   "id": "38921047",
   "metadata": {},
   "outputs": [
    {
     "data": {
      "text/plain": [
       "array([[53.8964059 ],\n",
       "       [55.59064082],\n",
       "       [57.26543014],\n",
       "       [55.39124241],\n",
       "       [55.97163913],\n",
       "       [50.24210433],\n",
       "       [51.49004979],\n",
       "       [59.19191975],\n",
       "       [54.17061921],\n",
       "       [53.91409691]])"
      ]
     },
     "execution_count": 51,
     "metadata": {},
     "output_type": "execute_result"
    }
   ],
   "source": [
    "c - b[0]"
   ]
  },
  {
   "cell_type": "code",
   "execution_count": 56,
   "id": "4a892270",
   "metadata": {},
   "outputs": [
    {
     "data": {
      "text/plain": [
       "array([3, 8])"
      ]
     },
     "execution_count": 56,
     "metadata": {},
     "output_type": "execute_result"
    }
   ],
   "source": [
    "np.array([1, 2]) * np.array([3, 4])"
   ]
  },
  {
   "cell_type": "code",
   "execution_count": null,
   "id": "65610101",
   "metadata": {},
   "outputs": [],
   "source": []
  }
 ],
 "metadata": {
  "kernelspec": {
   "display_name": "Python 3",
   "language": "python",
   "name": "python3"
  },
  "language_info": {
   "codemirror_mode": {
    "name": "ipython",
    "version": 3
   },
   "file_extension": ".py",
   "mimetype": "text/x-python",
   "name": "python",
   "nbconvert_exporter": "python",
   "pygments_lexer": "ipython3",
   "version": "3.8.1"
  }
 },
 "nbformat": 4,
 "nbformat_minor": 5
}
