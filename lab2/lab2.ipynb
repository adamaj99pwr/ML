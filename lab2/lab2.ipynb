{
 "cells": [
  {
   "cell_type": "markdown",
   "metadata": {},
   "source": [
    "https://github.com/LorenzoVaralo/MNIST-from-Scratch/blob/main/MNISTalgorithm.ipynb"
   ]
  },
  {
   "cell_type": "code",
   "execution_count": 3,
   "metadata": {},
   "outputs": [],
   "source": [
    "import numpy as np\n",
    "import mnist_loader as ml\n",
    "import time"
   ]
  },
  {
   "cell_type": "code",
   "execution_count": 4,
   "metadata": {},
   "outputs": [],
   "source": [
    "training_data, validation_data, test_data = ml.load_data_wrapper()"
   ]
  },
  {
   "cell_type": "code",
   "execution_count": 5,
   "metadata": {},
   "outputs": [],
   "source": [
    "a, b = zip(*training_data)\n",
    "c, d = zip(*validation_data)\n",
    "e, f = zip(*test_data)\n",
    "\n",
    "a = np.array([x.reshape(784,) for x in a])\n",
    "c = np.array([x.reshape(784,) for x in c])\n",
    "e = np.array([x.reshape(784,) for x in e])\n",
    "\n",
    "trainX = np.concatenate((a, c))\n",
    "trainX = np.concatenate((np.ones([trainX.shape[0], 1]), trainX), axis=1)\n",
    "\n",
    "b = np.array([y.reshape(10, ) for y in b])\n",
    "cat = np.zeros([len(d), 10])\n",
    "for i, y in enumerate(d):\n",
    "    cat[i][y] = 1\n",
    "d = cat\n",
    "\n",
    "trainY = np.concatenate((b, d))\n",
    "\n",
    "testX = np.concatenate((np.ones([e.shape[0], 1]), e), axis=1)\n",
    "\n",
    "cat = np.zeros([len(d), 10])\n",
    "for i, y in enumerate(f):\n",
    "    cat[i][y] = 1\n",
    "testY = cat"
   ]
  },
  {
   "cell_type": "code",
   "execution_count": 6,
   "metadata": {},
   "outputs": [
    {
     "name": "stdout",
     "output_type": "stream",
     "text": [
      "trainX: (60000, 785)\n",
      "trainY: (60000, 10)\n",
      "testX: (10000, 785)\n",
      "testY: (10000, 10)\n"
     ]
    }
   ],
   "source": [
    "print(f'trainX: {trainX.shape}')\n",
    "print(f'trainY: {trainY.shape}')\n",
    "print(f'testX: {testX.shape}')\n",
    "print(f'testY: {testY.shape}')"
   ]
  },
  {
   "cell_type": "code",
   "execution_count": 7,
   "metadata": {},
   "outputs": [],
   "source": [
    "class Network:\n",
    "\n",
    "    def __init__(self, sizes, activations, epochs=10, lr=0.1, batch=0):\n",
    "        self.sizes = sizes\n",
    "        self.activations = activations\n",
    "        self.epochs = epochs\n",
    "        self.lr = lr\n",
    "        self.batch = batch\n",
    "        self.weights = self.initWeights()\n",
    "\n",
    "    def initWeights(self):\n",
    "        weights = {f'W{layer+1}': np.random.randn(self.sizes[layer]+1, self.sizes[layer+1])/10 \\\n",
    "                   for layer in range(len(self.sizes)-1)}\n",
    "        return weights\n",
    "    \n",
    "    def activ(self, x, activation):\n",
    "\n",
    "        if activation == 'sigmoid':\n",
    "            return 1/(1+np.exp(-x))\n",
    "        \n",
    "        elif activation == 'relu':\n",
    "            return np.maximum(0, x)\n",
    "        \n",
    "        elif activation == 'softmax':\n",
    "            e_x = np.exp(x - np.max(x, axis=1, keepdims=True)) # subtract max for numerical stability, keepdims for correct broadcasting\n",
    "            return (e_x / e_x.sum(axis=1)[:,None]) # sum along axis 1, because each row is a different observation; reshaping for correct broadcasting!\n",
    "        \n",
    "    def dactiv(self, x, activation):\n",
    "\n",
    "        if activation == 'sigmoid':\n",
    "            return self.activ(x, 'sigmoid') * (1 - self.activ(x, 'sigmoid'))\n",
    "        \n",
    "        elif activation == 'relu':\n",
    "            return np.where(x >= 0, 1, 0)\n",
    "        \n",
    "    def forwardPass(self, X):\n",
    "\n",
    "        M = X.shape[0]\n",
    "        last = len(self.sizes)\n",
    "        FPsteps = {'a1': X}\n",
    "\n",
    "        for layer in range(1, last):\n",
    "            activation = self.activations[layer-1]\n",
    "            FPsteps[f'z{layer+1}'] = FPsteps[f'a{layer}'] @ self.weights[f'W{layer}']\n",
    "            FPsteps[f'a{layer+1}'] = np.concatenate((np.ones([M,1]), self.activ(FPsteps[f'z{layer+1}'], activation)), axis=1)\n",
    "\n",
    "        h = FPsteps.pop(f'a{last}')\n",
    "        FPsteps['h'] = h[:,1:]\n",
    "\n",
    "        return FPsteps\n",
    "    \n",
    "    def dLdW(self, X, Y):\n",
    "\n",
    "        M = X.shape[0]\n",
    "        nLayers = len(self.sizes)\n",
    "        gradients = []\n",
    "        FPsteps = self.forwardPass(X)\n",
    "\n",
    "        deltas = {f'delta{nLayers}': FPsteps['h'] - Y} # delta for last layer\n",
    "        for i in range(nLayers-1, 1, -1):\n",
    "            deltas[f'delta{i}'] = (deltas[f'delta{i+1}'] @ self.weights[f'W{i}'][1:].T) * \\\n",
    "                self.dactiv(FPsteps[f'z{i}'], self.activations[i-2])\n",
    "\n",
    "        gradients = [(deltas[f'delta{i+2}'].T @ FPsteps[f'a{i+1}']) / M for i in range(len(deltas))]\n",
    "\n",
    "        return gradients\n",
    "    \n",
    "    def accuracy(self, X, Y):\n",
    "\n",
    "        FPsteps = self.forwardPass(X)\n",
    "        h = FPsteps['h']\n",
    "        yPred = np.argmax(h, axis=1)\n",
    "        yReal = np.argmax(Y, axis=1)\n",
    "        return np.mean(yPred == yReal)\n",
    "    \n",
    "    def train(self, xTrain, yTrain, xTest, yTest):\n",
    "\n",
    "        M = xTrain.shape[0]\n",
    "\n",
    "        for epoch in range(self.epochs):\n",
    "            slicer = np.array([0, self.batch])\n",
    "\n",
    "            for i in range(M // self.batch): # backPropagation\n",
    "                batch = slicer + i*self.batch\n",
    "                gradients = self.dLdW(xTrain[batch[0]:batch[1]], yTrain[batch[0]:batch[1]])\n",
    "                newWeights = {f'W{j+1}': self.weights[f'W{j+1}'] - self.lr*gradients[j].T \\\n",
    "                              for j in range(len(gradients))}\n",
    "                self.weights.update(newWeights)\n",
    "            \n",
    "            accTrain = self.accuracy(xTrain, yTrain)\n",
    "            accTest = self.accuracy(xTest, yTest)\n",
    "\n",
    "            print(f'Epoch: {epoch+1}; Accuracy Train: {accTrain}; Accuracy Test: {accTest}')\n",
    "\n"
   ]
  },
  {
   "cell_type": "code",
   "execution_count": 8,
   "metadata": {},
   "outputs": [],
   "source": [
    "N = Network([784, 200, 80, 10], ['sigmoid', 'relu', 'softmax'], epochs=10, lr=0.1, batch=100)"
   ]
  },
  {
   "cell_type": "code",
   "execution_count": 9,
   "metadata": {},
   "outputs": [
    {
     "name": "stdout",
     "output_type": "stream",
     "text": [
      "Epoch: 1; Accuracy Train: 0.8641333333333333; Accuracy Test: 0.8744\n"
     ]
    },
    {
     "ename": "KeyboardInterrupt",
     "evalue": "",
     "output_type": "error",
     "traceback": [
      "\u001b[1;31m---------------------------------------------------------------------------\u001b[0m",
      "\u001b[1;31mKeyboardInterrupt\u001b[0m                         Traceback (most recent call last)",
      "\u001b[1;32mc:\\Users\\majchrza\\Desktop\\myfiles\\uni\\ML\\lab2\\lab2.ipynb Cell 8\u001b[0m line \u001b[0;36m1\n\u001b[1;32m----> <a href='vscode-notebook-cell:/c%3A/Users/majchrza/Desktop/myfiles/uni/ML/lab2/lab2.ipynb#X10sZmlsZQ%3D%3D?line=0'>1</a>\u001b[0m N\u001b[39m.\u001b[39;49mtrain(trainX, trainY, testX, testY)\n",
      "\u001b[1;32mc:\\Users\\majchrza\\Desktop\\myfiles\\uni\\ML\\lab2\\lab2.ipynb Cell 8\u001b[0m line \u001b[0;36m8\n\u001b[0;32m     <a href='vscode-notebook-cell:/c%3A/Users/majchrza/Desktop/myfiles/uni/ML/lab2/lab2.ipynb#X10sZmlsZQ%3D%3D?line=82'>83</a>\u001b[0m \u001b[39mfor\u001b[39;00m i \u001b[39min\u001b[39;00m \u001b[39mrange\u001b[39m(M \u001b[39m/\u001b[39m\u001b[39m/\u001b[39m \u001b[39mself\u001b[39m\u001b[39m.\u001b[39mbatch): \u001b[39m# backPropagation\u001b[39;00m\n\u001b[0;32m     <a href='vscode-notebook-cell:/c%3A/Users/majchrza/Desktop/myfiles/uni/ML/lab2/lab2.ipynb#X10sZmlsZQ%3D%3D?line=83'>84</a>\u001b[0m     batch \u001b[39m=\u001b[39m slicer \u001b[39m+\u001b[39m i\u001b[39m*\u001b[39m\u001b[39mself\u001b[39m\u001b[39m.\u001b[39mbatch\n\u001b[1;32m---> <a href='vscode-notebook-cell:/c%3A/Users/majchrza/Desktop/myfiles/uni/ML/lab2/lab2.ipynb#X10sZmlsZQ%3D%3D?line=84'>85</a>\u001b[0m     gradients \u001b[39m=\u001b[39m \u001b[39mself\u001b[39;49m\u001b[39m.\u001b[39;49mdLdW(xTrain[batch[\u001b[39m0\u001b[39;49m]:batch[\u001b[39m1\u001b[39;49m]], yTrain[batch[\u001b[39m0\u001b[39;49m]:batch[\u001b[39m1\u001b[39;49m]])\n\u001b[0;32m     <a href='vscode-notebook-cell:/c%3A/Users/majchrza/Desktop/myfiles/uni/ML/lab2/lab2.ipynb#X10sZmlsZQ%3D%3D?line=85'>86</a>\u001b[0m     newWeights \u001b[39m=\u001b[39m {\u001b[39mf\u001b[39m\u001b[39m'\u001b[39m\u001b[39mW\u001b[39m\u001b[39m{\u001b[39;00mj\u001b[39m+\u001b[39m\u001b[39m1\u001b[39m\u001b[39m}\u001b[39;00m\u001b[39m'\u001b[39m: \u001b[39mself\u001b[39m\u001b[39m.\u001b[39mweights[\u001b[39mf\u001b[39m\u001b[39m'\u001b[39m\u001b[39mW\u001b[39m\u001b[39m{\u001b[39;00mj\u001b[39m+\u001b[39m\u001b[39m1\u001b[39m\u001b[39m}\u001b[39;00m\u001b[39m'\u001b[39m] \u001b[39m-\u001b[39m \u001b[39mself\u001b[39m\u001b[39m.\u001b[39mlr\u001b[39m*\u001b[39mgradients[j]\u001b[39m.\u001b[39mT \\\n\u001b[0;32m     <a href='vscode-notebook-cell:/c%3A/Users/majchrza/Desktop/myfiles/uni/ML/lab2/lab2.ipynb#X10sZmlsZQ%3D%3D?line=86'>87</a>\u001b[0m                   \u001b[39mfor\u001b[39;00m j \u001b[39min\u001b[39;00m \u001b[39mrange\u001b[39m(\u001b[39mlen\u001b[39m(gradients))}\n\u001b[0;32m     <a href='vscode-notebook-cell:/c%3A/Users/majchrza/Desktop/myfiles/uni/ML/lab2/lab2.ipynb#X10sZmlsZQ%3D%3D?line=87'>88</a>\u001b[0m     \u001b[39mself\u001b[39m\u001b[39m.\u001b[39mweights\u001b[39m.\u001b[39mupdate(newWeights)\n",
      "\u001b[1;32mc:\\Users\\majchrza\\Desktop\\myfiles\\uni\\ML\\lab2\\lab2.ipynb Cell 8\u001b[0m line \u001b[0;36m5\n\u001b[0;32m     <a href='vscode-notebook-cell:/c%3A/Users/majchrza/Desktop/myfiles/uni/ML/lab2/lab2.ipynb#X10sZmlsZQ%3D%3D?line=54'>55</a>\u001b[0m nLayers \u001b[39m=\u001b[39m \u001b[39mlen\u001b[39m(\u001b[39mself\u001b[39m\u001b[39m.\u001b[39msizes)\n\u001b[0;32m     <a href='vscode-notebook-cell:/c%3A/Users/majchrza/Desktop/myfiles/uni/ML/lab2/lab2.ipynb#X10sZmlsZQ%3D%3D?line=55'>56</a>\u001b[0m gradients \u001b[39m=\u001b[39m []\n\u001b[1;32m---> <a href='vscode-notebook-cell:/c%3A/Users/majchrza/Desktop/myfiles/uni/ML/lab2/lab2.ipynb#X10sZmlsZQ%3D%3D?line=56'>57</a>\u001b[0m FPsteps \u001b[39m=\u001b[39m \u001b[39mself\u001b[39;49m\u001b[39m.\u001b[39;49mforwardPass(X)\n\u001b[0;32m     <a href='vscode-notebook-cell:/c%3A/Users/majchrza/Desktop/myfiles/uni/ML/lab2/lab2.ipynb#X10sZmlsZQ%3D%3D?line=58'>59</a>\u001b[0m deltas \u001b[39m=\u001b[39m {\u001b[39mf\u001b[39m\u001b[39m'\u001b[39m\u001b[39mdelta\u001b[39m\u001b[39m{\u001b[39;00mnLayers\u001b[39m}\u001b[39;00m\u001b[39m'\u001b[39m: FPsteps[\u001b[39m'\u001b[39m\u001b[39mh\u001b[39m\u001b[39m'\u001b[39m] \u001b[39m-\u001b[39m Y} \u001b[39m# delta for last layer\u001b[39;00m\n\u001b[0;32m     <a href='vscode-notebook-cell:/c%3A/Users/majchrza/Desktop/myfiles/uni/ML/lab2/lab2.ipynb#X10sZmlsZQ%3D%3D?line=59'>60</a>\u001b[0m \u001b[39mfor\u001b[39;00m i \u001b[39min\u001b[39;00m \u001b[39mrange\u001b[39m(nLayers\u001b[39m-\u001b[39m\u001b[39m1\u001b[39m, \u001b[39m1\u001b[39m, \u001b[39m-\u001b[39m\u001b[39m1\u001b[39m):\n",
      "\u001b[1;32mc:\\Users\\majchrza\\Desktop\\myfiles\\uni\\ML\\lab2\\lab2.ipynb Cell 8\u001b[0m line \u001b[0;36m4\n\u001b[0;32m     <a href='vscode-notebook-cell:/c%3A/Users/majchrza/Desktop/myfiles/uni/ML/lab2/lab2.ipynb#X10sZmlsZQ%3D%3D?line=42'>43</a>\u001b[0m     activation \u001b[39m=\u001b[39m \u001b[39mself\u001b[39m\u001b[39m.\u001b[39mactivations[layer\u001b[39m-\u001b[39m\u001b[39m1\u001b[39m]\n\u001b[0;32m     <a href='vscode-notebook-cell:/c%3A/Users/majchrza/Desktop/myfiles/uni/ML/lab2/lab2.ipynb#X10sZmlsZQ%3D%3D?line=43'>44</a>\u001b[0m     FPsteps[\u001b[39mf\u001b[39m\u001b[39m'\u001b[39m\u001b[39mz\u001b[39m\u001b[39m{\u001b[39;00mlayer\u001b[39m+\u001b[39m\u001b[39m1\u001b[39m\u001b[39m}\u001b[39;00m\u001b[39m'\u001b[39m] \u001b[39m=\u001b[39m FPsteps[\u001b[39mf\u001b[39m\u001b[39m'\u001b[39m\u001b[39ma\u001b[39m\u001b[39m{\u001b[39;00mlayer\u001b[39m}\u001b[39;00m\u001b[39m'\u001b[39m] \u001b[39m@\u001b[39m \u001b[39mself\u001b[39m\u001b[39m.\u001b[39mweights[\u001b[39mf\u001b[39m\u001b[39m'\u001b[39m\u001b[39mW\u001b[39m\u001b[39m{\u001b[39;00mlayer\u001b[39m}\u001b[39;00m\u001b[39m'\u001b[39m]\n\u001b[1;32m---> <a href='vscode-notebook-cell:/c%3A/Users/majchrza/Desktop/myfiles/uni/ML/lab2/lab2.ipynb#X10sZmlsZQ%3D%3D?line=44'>45</a>\u001b[0m     FPsteps[\u001b[39mf\u001b[39m\u001b[39m'\u001b[39m\u001b[39ma\u001b[39m\u001b[39m{\u001b[39;00mlayer\u001b[39m+\u001b[39m\u001b[39m1\u001b[39m\u001b[39m}\u001b[39;00m\u001b[39m'\u001b[39m] \u001b[39m=\u001b[39m np\u001b[39m.\u001b[39mconcatenate((np\u001b[39m.\u001b[39mones([M,\u001b[39m1\u001b[39m]), \u001b[39mself\u001b[39;49m\u001b[39m.\u001b[39;49mactiv(FPsteps[\u001b[39mf\u001b[39;49m\u001b[39m'\u001b[39;49m\u001b[39mz\u001b[39;49m\u001b[39m{\u001b[39;49;00mlayer\u001b[39m+\u001b[39;49m\u001b[39m1\u001b[39;49m\u001b[39m}\u001b[39;49;00m\u001b[39m'\u001b[39;49m], activation)), axis\u001b[39m=\u001b[39m\u001b[39m1\u001b[39m)\n\u001b[0;32m     <a href='vscode-notebook-cell:/c%3A/Users/majchrza/Desktop/myfiles/uni/ML/lab2/lab2.ipynb#X10sZmlsZQ%3D%3D?line=46'>47</a>\u001b[0m h \u001b[39m=\u001b[39m FPsteps\u001b[39m.\u001b[39mpop(\u001b[39mf\u001b[39m\u001b[39m'\u001b[39m\u001b[39ma\u001b[39m\u001b[39m{\u001b[39;00mlast\u001b[39m}\u001b[39;00m\u001b[39m'\u001b[39m)\n\u001b[0;32m     <a href='vscode-notebook-cell:/c%3A/Users/majchrza/Desktop/myfiles/uni/ML/lab2/lab2.ipynb#X10sZmlsZQ%3D%3D?line=47'>48</a>\u001b[0m FPsteps[\u001b[39m'\u001b[39m\u001b[39mh\u001b[39m\u001b[39m'\u001b[39m] \u001b[39m=\u001b[39m h[:,\u001b[39m1\u001b[39m:]\n",
      "\u001b[1;32mc:\\Users\\majchrza\\Desktop\\myfiles\\uni\\ML\\lab2\\lab2.ipynb Cell 8\u001b[0m line \u001b[0;36m1\n\u001b[0;32m     <a href='vscode-notebook-cell:/c%3A/Users/majchrza/Desktop/myfiles/uni/ML/lab2/lab2.ipynb#X10sZmlsZQ%3D%3D?line=15'>16</a>\u001b[0m \u001b[39mdef\u001b[39;00m \u001b[39mactiv\u001b[39m(\u001b[39mself\u001b[39m, x, activation):\n\u001b[0;32m     <a href='vscode-notebook-cell:/c%3A/Users/majchrza/Desktop/myfiles/uni/ML/lab2/lab2.ipynb#X10sZmlsZQ%3D%3D?line=17'>18</a>\u001b[0m     \u001b[39mif\u001b[39;00m activation \u001b[39m==\u001b[39m \u001b[39m'\u001b[39m\u001b[39msigmoid\u001b[39m\u001b[39m'\u001b[39m:\n\u001b[1;32m---> <a href='vscode-notebook-cell:/c%3A/Users/majchrza/Desktop/myfiles/uni/ML/lab2/lab2.ipynb#X10sZmlsZQ%3D%3D?line=18'>19</a>\u001b[0m         \u001b[39mreturn\u001b[39;00m \u001b[39m1\u001b[39m\u001b[39m/\u001b[39m(\u001b[39m1\u001b[39m\u001b[39m+\u001b[39mnp\u001b[39m.\u001b[39;49mexp(\u001b[39m-\u001b[39;49mx))\n\u001b[0;32m     <a href='vscode-notebook-cell:/c%3A/Users/majchrza/Desktop/myfiles/uni/ML/lab2/lab2.ipynb#X10sZmlsZQ%3D%3D?line=20'>21</a>\u001b[0m     \u001b[39melif\u001b[39;00m activation \u001b[39m==\u001b[39m \u001b[39m'\u001b[39m\u001b[39mrelu\u001b[39m\u001b[39m'\u001b[39m:\n\u001b[0;32m     <a href='vscode-notebook-cell:/c%3A/Users/majchrza/Desktop/myfiles/uni/ML/lab2/lab2.ipynb#X10sZmlsZQ%3D%3D?line=21'>22</a>\u001b[0m         \u001b[39mreturn\u001b[39;00m np\u001b[39m.\u001b[39mmaximum(\u001b[39m0\u001b[39m, x)\n",
      "\u001b[1;31mKeyboardInterrupt\u001b[0m: "
     ]
    }
   ],
   "source": [
    "N.train(trainX, trainY, testX, testY)"
   ]
  },
  {
   "cell_type": "code",
   "execution_count": 19,
   "metadata": {},
   "outputs": [],
   "source": [
    "dupa = np.arange(1, 10).reshape((3, 3))"
   ]
  },
  {
   "cell_type": "code",
   "execution_count": 27,
   "metadata": {},
   "outputs": [
    {
     "data": {
      "text/plain": [
       "(10, 80)"
      ]
     },
     "execution_count": 27,
     "metadata": {},
     "output_type": "execute_result"
    }
   ],
   "source": [
    "dupa = N.weights['W3']\n",
    "dupa[1:].T.shape"
   ]
  },
  {
   "cell_type": "code",
   "execution_count": 22,
   "metadata": {},
   "outputs": [
    {
     "data": {
      "text/plain": [
       "array([[4, 5, 6],\n",
       "       [7, 8, 9]])"
      ]
     },
     "execution_count": 22,
     "metadata": {},
     "output_type": "execute_result"
    }
   ],
   "source": [
    "dupa[1:]"
   ]
  },
  {
   "cell_type": "code",
   "execution_count": null,
   "metadata": {},
   "outputs": [],
   "source": []
  }
 ],
 "metadata": {
  "kernelspec": {
   "display_name": "Python 3",
   "language": "python",
   "name": "python3"
  },
  "language_info": {
   "codemirror_mode": {
    "name": "ipython",
    "version": 3
   },
   "file_extension": ".py",
   "mimetype": "text/x-python",
   "name": "python",
   "nbconvert_exporter": "python",
   "pygments_lexer": "ipython3",
   "version": "3.11.3"
  }
 },
 "nbformat": 4,
 "nbformat_minor": 2
}
