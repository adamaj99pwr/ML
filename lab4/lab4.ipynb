{
 "cells": [
  {
   "cell_type": "code",
   "execution_count": 81,
   "metadata": {},
   "outputs": [],
   "source": [
    "from keras import datasets, models, layers, losses\n",
    "import tensorflow as tf\n",
    "import matplotlib.pyplot as plt\n",
    "import numpy as np\n",
    "from collections import Counter"
   ]
  },
  {
   "cell_type": "code",
   "execution_count": 20,
   "metadata": {},
   "outputs": [],
   "source": [
    "(X_train, y_train), (X_test, y_test) = datasets.cifar10.load_data()"
   ]
  },
  {
   "cell_type": "code",
   "execution_count": 21,
   "metadata": {},
   "outputs": [
    {
     "name": "stdout",
     "output_type": "stream",
     "text": [
      "Training set shape: (50000, 32, 32, 3), test set shape: (10000, 32, 32, 3), image shape: (32, 32, 3)\n"
     ]
    }
   ],
   "source": [
    "print(f'Training set shape: {X_train.shape}, test set shape: {X_test.shape}, image shape: {X_train[0].shape}')"
   ]
  },
  {
   "cell_type": "code",
   "execution_count": 22,
   "metadata": {},
   "outputs": [
    {
     "name": "stdout",
     "output_type": "stream",
     "text": [
      "Class labels: [0 1 2 3 4 5 6 7 8 9]\n"
     ]
    }
   ],
   "source": [
    "print(f'Class labels: {np.unique(y_train)}')"
   ]
  },
  {
   "cell_type": "code",
   "execution_count": 42,
   "metadata": {},
   "outputs": [],
   "source": [
    "all_labels = np.concatenate((y_train, y_test))\n",
    "all_labels = all_labels.reshape(60000, )\n",
    "labels_counter = dict(Counter(all_labels))"
   ]
  },
  {
   "cell_type": "code",
   "execution_count": 44,
   "metadata": {},
   "outputs": [
    {
     "name": "stdout",
     "output_type": "stream",
     "text": [
      "Class labels distribution: {0: 6000, 1: 6000, 2: 6000, 3: 6000, 4: 6000, 5: 6000, 6: 6000, 7: 6000, 8: 6000, 9: 6000}\n"
     ]
    }
   ],
   "source": [
    "print(f'Class labels distribution: {dict(sorted(labels_counter.items()))}')"
   ]
  },
  {
   "cell_type": "markdown",
   "metadata": {},
   "source": [
    "### Dense Neural Network"
   ]
  },
  {
   "cell_type": "code",
   "execution_count": 79,
   "metadata": {},
   "outputs": [],
   "source": [
    "dnn = models.Sequential()\n",
    "dnn.add(layers.Flatten(input_shape=(32, 32, 3)))\n",
    "# dnn.add(layers.Dense(units=256, activation='relu'))\n",
    "dnn.add(layers.Dense(units=128, activation='relu'))\n",
    "dnn.add(layers.Dense(units=64, activation='relu'))\n",
    "dnn.add(layers.Dense(units=10))"
   ]
  },
  {
   "cell_type": "code",
   "execution_count": 82,
   "metadata": {},
   "outputs": [],
   "source": [
    "# dnn.compile(optimizer='adam', loss='categorical_crossentropy', metrics=['accuracy'])\n",
    "dnn.compile(optimizer='adam', loss=losses.SparseCategoricalCrossentropy(from_logits=True), metrics=['accuracy'])"
   ]
  },
  {
   "cell_type": "code",
   "execution_count": 83,
   "metadata": {},
   "outputs": [
    {
     "name": "stdout",
     "output_type": "stream",
     "text": [
      "Epoch 1/20\n",
      "704/704 - 4s - loss: 30.3812 - accuracy: 0.2100 - val_loss: 15.8660 - val_accuracy: 0.2250 - 4s/epoch - 6ms/step\n",
      "Epoch 2/20\n",
      "704/704 - 5s - loss: 8.5705 - accuracy: 0.2394 - val_loss: 5.7894 - val_accuracy: 0.1934 - 5s/epoch - 6ms/step\n",
      "Epoch 3/20\n",
      "704/704 - 6s - loss: 2.9744 - accuracy: 0.2430 - val_loss: 2.3451 - val_accuracy: 0.2652 - 6s/epoch - 9ms/step\n",
      "Epoch 4/20\n",
      "704/704 - 6s - loss: 2.2498 - accuracy: 0.2620 - val_loss: 2.0416 - val_accuracy: 0.2898 - 6s/epoch - 8ms/step\n",
      "Epoch 5/20\n",
      "704/704 - 6s - loss: 2.0770 - accuracy: 0.2844 - val_loss: 2.2091 - val_accuracy: 0.2570 - 6s/epoch - 8ms/step\n",
      "Epoch 6/20\n",
      "704/704 - 6s - loss: 1.9641 - accuracy: 0.3035 - val_loss: 2.2112 - val_accuracy: 0.2438 - 6s/epoch - 8ms/step\n",
      "Epoch 7/20\n",
      "704/704 - 5s - loss: 1.9476 - accuracy: 0.3081 - val_loss: 2.0502 - val_accuracy: 0.2762 - 5s/epoch - 7ms/step\n",
      "Epoch 8/20\n",
      "704/704 - 5s - loss: 1.9499 - accuracy: 0.3054 - val_loss: 2.1062 - val_accuracy: 0.2562 - 5s/epoch - 7ms/step\n",
      "Epoch 9/20\n",
      "704/704 - 3s - loss: 1.9603 - accuracy: 0.3063 - val_loss: 1.9618 - val_accuracy: 0.2940 - 3s/epoch - 4ms/step\n",
      "Epoch 10/20\n",
      "704/704 - 4s - loss: 2.0058 - accuracy: 0.2875 - val_loss: 2.2605 - val_accuracy: 0.2038 - 4s/epoch - 5ms/step\n",
      "Epoch 11/20\n",
      "704/704 - 5s - loss: 2.0170 - accuracy: 0.2755 - val_loss: 2.0866 - val_accuracy: 0.2484 - 5s/epoch - 7ms/step\n",
      "Epoch 12/20\n",
      "704/704 - 4s - loss: 1.9891 - accuracy: 0.2792 - val_loss: 2.2316 - val_accuracy: 0.2200 - 4s/epoch - 5ms/step\n",
      "Epoch 13/20\n",
      "704/704 - 4s - loss: 2.0046 - accuracy: 0.2580 - val_loss: 2.1010 - val_accuracy: 0.1852 - 4s/epoch - 5ms/step\n",
      "Epoch 14/20\n",
      "704/704 - 3s - loss: 2.0430 - accuracy: 0.2200 - val_loss: 1.9764 - val_accuracy: 0.2434 - 3s/epoch - 4ms/step\n",
      "Epoch 15/20\n",
      "704/704 - 4s - loss: 2.0324 - accuracy: 0.2233 - val_loss: 2.1345 - val_accuracy: 0.2066 - 4s/epoch - 6ms/step\n",
      "Epoch 16/20\n",
      "704/704 - 4s - loss: 2.0122 - accuracy: 0.2284 - val_loss: 2.1771 - val_accuracy: 0.1814 - 4s/epoch - 6ms/step\n",
      "Epoch 17/20\n",
      "704/704 - 4s - loss: 2.0266 - accuracy: 0.2253 - val_loss: 2.0000 - val_accuracy: 0.2300 - 4s/epoch - 6ms/step\n",
      "Epoch 18/20\n",
      "704/704 - 5s - loss: 2.0363 - accuracy: 0.2222 - val_loss: 1.9991 - val_accuracy: 0.2336 - 5s/epoch - 7ms/step\n",
      "Epoch 19/20\n",
      "704/704 - 6s - loss: 2.0312 - accuracy: 0.2217 - val_loss: 2.0094 - val_accuracy: 0.2394 - 6s/epoch - 8ms/step\n",
      "Epoch 20/20\n",
      "704/704 - 6s - loss: 2.0244 - accuracy: 0.2245 - val_loss: 2.0932 - val_accuracy: 0.2136 - 6s/epoch - 9ms/step\n"
     ]
    }
   ],
   "source": [
    "dnn_fit = dnn.fit(x=X_train, y=y_train, batch_size=64, epochs=20, validation_split=0.1, verbose=2)"
   ]
  },
  {
   "cell_type": "markdown",
   "metadata": {},
   "source": [
    "### CNN - no image processing"
   ]
  },
  {
   "cell_type": "code",
   "execution_count": 6,
   "metadata": {},
   "outputs": [
    {
     "name": "stdout",
     "output_type": "stream",
     "text": [
      "WARNING:tensorflow:From c:\\Users\\majchrza\\AppData\\Local\\Programs\\Python\\Python311\\Lib\\site-packages\\keras\\src\\backend.py:873: The name tf.get_default_graph is deprecated. Please use tf.compat.v1.get_default_graph instead.\n",
      "\n"
     ]
    }
   ],
   "source": [
    "cnn = models.Sequential()\n",
    "cnn.add(layers.Conv2D(kernel_size=24, strides=(1, 1), activation='relu', input_shape=(32, 32, 3)))\n",
    "cnn.add(layers.Conv2D(kernel_size=16, strides=(1, 1), activation='relu'))\n"
   ]
  },
  {
   "cell_type": "code",
   "execution_count": 24,
   "metadata": {},
   "outputs": [
    {
     "data": {
      "text/plain": [
       "1024"
      ]
     },
     "execution_count": 24,
     "metadata": {},
     "output_type": "execute_result"
    }
   ],
   "source": [
    "# zrobic gridsearch na roznych parametrach - kernel, strides"
   ]
  },
  {
   "cell_type": "code",
   "execution_count": null,
   "metadata": {},
   "outputs": [],
   "source": []
  }
 ],
 "metadata": {
  "kernelspec": {
   "display_name": "Python 3",
   "language": "python",
   "name": "python3"
  },
  "language_info": {
   "codemirror_mode": {
    "name": "ipython",
    "version": 3
   },
   "file_extension": ".py",
   "mimetype": "text/x-python",
   "name": "python",
   "nbconvert_exporter": "python",
   "pygments_lexer": "ipython3",
   "version": "3.11.3"
  }
 },
 "nbformat": 4,
 "nbformat_minor": 2
}
