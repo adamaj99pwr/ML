{
 "cells": [
  {
   "cell_type": "code",
   "execution_count": 73,
   "id": "916fb060",
   "metadata": {},
   "outputs": [],
   "source": [
    "import numpy as np\n",
    "import pytest\n",
    "from sklearn.linear_model import LinearRegression, Ridge\n",
    "import random as rd"
   ]
  },
  {
   "cell_type": "markdown",
   "id": "434be7b4",
   "metadata": {},
   "source": [
    "#### Linear regression"
   ]
  },
  {
   "cell_type": "code",
   "execution_count": 12,
   "id": "a2af752c",
   "metadata": {},
   "outputs": [],
   "source": [
    "class LinearRegr:\n",
    "    def fit(self, X, Y):\n",
    "        n, m = X.shape\n",
    "        newX = np.hstack((np.ones((n, 1)), X))\n",
    "        self.theta = np.linalg.inv(newX.T @ newX) @ newX.T @ Y\n",
    "        return self\n",
    "    \n",
    "    def predict(self, X):\n",
    "        k, m = X.shape\n",
    "        newX = np.hstack((np.ones((k, 1)), X))\n",
    "        predictions = newX @ self.theta\n",
    "        return predictions"
   ]
  },
  {
   "cell_type": "code",
   "execution_count": 5,
   "id": "520d66d5",
   "metadata": {},
   "outputs": [],
   "source": [
    "def test_RegressionInOneDim():\n",
    "    X = np.array([1,3,2,5]).reshape((4,1))\n",
    "    Y = np.array([2,5, 3, 8])\n",
    "    a = np.array([1,2,10]).reshape((3,1))\n",
    "    expected = LinearRegression().fit(X, Y).predict(a)\n",
    "    actual = LinearRegr().fit(X, Y).predict(a)\n",
    "    assert list(actual) == pytest.approx(list(expected))\n",
    "\n",
    "def test_RegressionInThreeDim():\n",
    "    X = np.array([1,2,3,5,4,5,4,3,3,3,2,5]).reshape((4,3))\n",
    "    Y = np.array([2,5, 3, 8])\n",
    "    a = np.array([1,0,0, 0,1,0, 0,0,1, 2,5,7, -2,0,3]).reshape((5,3))\n",
    "    expected = LinearRegression().fit(X, Y).predict(a)\n",
    "    actual = LinearRegr().fit(X, Y).predict(a)\n",
    "    assert list(actual) == pytest.approx(list(expected))"
   ]
  },
  {
   "cell_type": "code",
   "execution_count": 13,
   "id": "cad906da",
   "metadata": {},
   "outputs": [],
   "source": [
    "test_RegressionInOneDim()"
   ]
  },
  {
   "cell_type": "code",
   "execution_count": 14,
   "id": "73d40b3a",
   "metadata": {},
   "outputs": [],
   "source": [
    "test_RegressionInThreeDim()"
   ]
  },
  {
   "cell_type": "markdown",
   "id": "59592319",
   "metadata": {},
   "source": [
    "#### Ridge Regression"
   ]
  },
  {
   "attachments": {
    "image.png": {
     "image/png": "[encoded data removed]"
    }
   },
   "cell_type": "markdown",
   "id": "9525b29b",
   "metadata": {},
   "source": [
    "![image.png](attachment:image.png)"
   ]
  },
  {
   "cell_type": "code",
   "execution_count": 117,
   "id": "1513d35e",
   "metadata": {},
   "outputs": [],
   "source": [
    "class RidgeRegr:\n",
    "    def __init__(self, alpha = 0.0):\n",
    "        self.alpha = alpha\n",
    "\n",
    "    def fit(self, X, Y, l, c):\n",
    "        n, m = X.shape\n",
    "        newX = np.hstack((np.ones((n, 1)), X))\n",
    "        theta = np.zeros((m+1))\n",
    "        self.theta = self.iterative(newX, Y, theta, l, c)\n",
    "        return self\n",
    "\n",
    "    def fit2(self, X, Y):\n",
    "        n, m = X.shape\n",
    "        newX = np.hstack((np.ones((n, 1)), X))\n",
    "        I = np.identity(m+1)\n",
    "        I[0][0] = 0\n",
    "        self.theta = np.linalg.inv(newX.T @ newX + self.alpha * I) @ newX.T @ Y\n",
    "        return self\n",
    "    \n",
    "    def predict(self, X):\n",
    "        k, m = X.shape\n",
    "        newX = np.hstack((np.ones((k, 1)), X))\n",
    "        predictions = newX @ self.theta\n",
    "        return predictions\n",
    "    \n",
    "    def cost_gradient(self, X, Y, theta):\n",
    "        diff = Y - X @ theta\n",
    "        gradient = -2 * X.T @ diff \n",
    "        gradient[1:] += 2 * self.alpha * theta[1:]  \n",
    "        gradient[0] += 2 * np.sum(diff)\n",
    "        return gradient\n",
    "        \n",
    "    def iterative(self, X, Y, theta, l, c):\n",
    "        for _ in range(l):\n",
    "            grad = self.cost_gradient(X, Y, theta)\n",
    "            theta -= c * grad\n",
    "#             print(theta)\n",
    "        return theta"
   ]
  },
  {
   "cell_type": "code",
   "execution_count": 121,
   "id": "71ef7bda",
   "metadata": {},
   "outputs": [],
   "source": [
    "l = 10**4\n",
    "c = 10**(-4)"
   ]
  },
  {
   "cell_type": "code",
   "execution_count": 122,
   "id": "944d6cb6",
   "metadata": {},
   "outputs": [],
   "source": [
    "def test_RidgeRegressionInOneDim():\n",
    "    X = np.array([1,3,2,5]).reshape((4,1))\n",
    "    Y = np.array([2,5, 3, 8])\n",
    "    X_test = np.array([1,2,10]).reshape((3,1))\n",
    "    alpha = 0.3\n",
    "    expected = Ridge(alpha).fit(X, Y).predict(X_test)\n",
    "    actual = RidgeRegr(alpha).fit(X, Y, l, c).predict(X_test)\n",
    "    print(\"Expected:\", expected)\n",
    "    print(\"Actual:\", actual)\n",
    "    assert list(actual) == pytest.approx(list(expected), rel=1e-5)\n",
    "\n",
    "def test_RidgeRegressionInThreeDim():\n",
    "    X = np.array([1,2,3,5,4,5,4,3,3,3,2,5]).reshape((4,3))\n",
    "    Y = np.array([2,5, 3, 8])\n",
    "    X_test = np.array([1,0,0, 0,1,0, 0,0,1, 2,5,7, -2,0,3]).reshape((5,3))\n",
    "    alpha = 0.4\n",
    "    expected = Ridge(alpha).fit(X, Y).predict(X_test)\n",
    "    actual = RidgeRegr(alpha).fit(X, Y, l, c).predict(X_test)\n",
    "    print(\"Expected:\", expected)\n",
    "    print(\"Actual:\", actual)\n",
    "    assert list(actual) == pytest.approx(list(expected), rel=1e-3)"
   ]
  },
  {
   "cell_type": "code",
   "execution_count": 123,
   "id": "fdbf5ba5",
   "metadata": {},
   "outputs": [
    {
     "name": "stdout",
     "output_type": "stream",
     "text": [
      "Expected: [ 1.88950276  3.38121547 15.31491713]\n",
      "Actual: [ 1.60305344  3.20610687 16.03053435]\n"
     ]
    },
    {
     "ename": "AssertionError",
     "evalue": "",
     "output_type": "error",
     "traceback": [
      "\u001b[1;31m---------------------------------------------------------------------------\u001b[0m",
      "\u001b[1;31mAssertionError\u001b[0m                            Traceback (most recent call last)",
      "\u001b[1;32m<ipython-input-123-15b4ed879505>\u001b[0m in \u001b[0;36m<module>\u001b[1;34m\u001b[0m\n\u001b[1;32m----> 1\u001b[1;33m \u001b[0mtest_RidgeRegressionInOneDim\u001b[0m\u001b[1;33m(\u001b[0m\u001b[1;33m)\u001b[0m\u001b[1;33m\u001b[0m\u001b[1;33m\u001b[0m\u001b[0m\n\u001b[0m",
      "\u001b[1;32m<ipython-input-122-4f6c05c4a2d0>\u001b[0m in \u001b[0;36mtest_RidgeRegressionInOneDim\u001b[1;34m()\u001b[0m\n\u001b[0;32m      8\u001b[0m     \u001b[0mprint\u001b[0m\u001b[1;33m(\u001b[0m\u001b[1;34m\"Expected:\"\u001b[0m\u001b[1;33m,\u001b[0m \u001b[0mexpected\u001b[0m\u001b[1;33m)\u001b[0m\u001b[1;33m\u001b[0m\u001b[1;33m\u001b[0m\u001b[0m\n\u001b[0;32m      9\u001b[0m     \u001b[0mprint\u001b[0m\u001b[1;33m(\u001b[0m\u001b[1;34m\"Actual:\"\u001b[0m\u001b[1;33m,\u001b[0m \u001b[0mactual\u001b[0m\u001b[1;33m)\u001b[0m\u001b[1;33m\u001b[0m\u001b[1;33m\u001b[0m\u001b[0m\n\u001b[1;32m---> 10\u001b[1;33m     \u001b[1;32massert\u001b[0m \u001b[0mlist\u001b[0m\u001b[1;33m(\u001b[0m\u001b[0mactual\u001b[0m\u001b[1;33m)\u001b[0m \u001b[1;33m==\u001b[0m \u001b[0mpytest\u001b[0m\u001b[1;33m.\u001b[0m\u001b[0mapprox\u001b[0m\u001b[1;33m(\u001b[0m\u001b[0mlist\u001b[0m\u001b[1;33m(\u001b[0m\u001b[0mexpected\u001b[0m\u001b[1;33m)\u001b[0m\u001b[1;33m,\u001b[0m \u001b[0mrel\u001b[0m\u001b[1;33m=\u001b[0m\u001b[1;36m1e-5\u001b[0m\u001b[1;33m)\u001b[0m\u001b[1;33m\u001b[0m\u001b[1;33m\u001b[0m\u001b[0m\n\u001b[0m\u001b[0;32m     11\u001b[0m \u001b[1;33m\u001b[0m\u001b[0m\n\u001b[0;32m     12\u001b[0m \u001b[1;32mdef\u001b[0m \u001b[0mtest_RidgeRegressionInThreeDim\u001b[0m\u001b[1;33m(\u001b[0m\u001b[1;33m)\u001b[0m\u001b[1;33m:\u001b[0m\u001b[1;33m\u001b[0m\u001b[1;33m\u001b[0m\u001b[0m\n",
      "\u001b[1;31mAssertionError\u001b[0m: "
     ]
    }
   ],
   "source": [
    "test_RidgeRegressionInOneDim()"
   ]
  },
  {
   "cell_type": "code",
   "execution_count": 106,
   "id": "171525ef",
   "metadata": {},
   "outputs": [
    {
     "name": "stdout",
     "output_type": "stream",
     "text": [
      "Expected: [ 0.54685378 -1.76188321  1.58691716  5.15527388  3.66704391]\n",
      "Actual: [5.53919693 2.0080789  5.42018153 0.56005906 5.18215074]\n"
     ]
    },
    {
     "ename": "AssertionError",
     "evalue": "",
     "output_type": "error",
     "traceback": [
      "\u001b[1;31m---------------------------------------------------------------------------\u001b[0m",
      "\u001b[1;31mAssertionError\u001b[0m                            Traceback (most recent call last)",
      "\u001b[1;32m<ipython-input-106-51e5c13052a8>\u001b[0m in \u001b[0;36m<module>\u001b[1;34m\u001b[0m\n\u001b[1;32m----> 1\u001b[1;33m \u001b[0mtest_RidgeRegressionInThreeDim\u001b[0m\u001b[1;33m(\u001b[0m\u001b[1;33m)\u001b[0m\u001b[1;33m\u001b[0m\u001b[1;33m\u001b[0m\u001b[0m\n\u001b[0m",
      "\u001b[1;32m<ipython-input-104-4f6c05c4a2d0>\u001b[0m in \u001b[0;36mtest_RidgeRegressionInThreeDim\u001b[1;34m()\u001b[0m\n\u001b[0;32m     19\u001b[0m     \u001b[0mprint\u001b[0m\u001b[1;33m(\u001b[0m\u001b[1;34m\"Expected:\"\u001b[0m\u001b[1;33m,\u001b[0m \u001b[0mexpected\u001b[0m\u001b[1;33m)\u001b[0m\u001b[1;33m\u001b[0m\u001b[1;33m\u001b[0m\u001b[0m\n\u001b[0;32m     20\u001b[0m     \u001b[0mprint\u001b[0m\u001b[1;33m(\u001b[0m\u001b[1;34m\"Actual:\"\u001b[0m\u001b[1;33m,\u001b[0m \u001b[0mactual\u001b[0m\u001b[1;33m)\u001b[0m\u001b[1;33m\u001b[0m\u001b[1;33m\u001b[0m\u001b[0m\n\u001b[1;32m---> 21\u001b[1;33m     \u001b[1;32massert\u001b[0m \u001b[0mlist\u001b[0m\u001b[1;33m(\u001b[0m\u001b[0mactual\u001b[0m\u001b[1;33m)\u001b[0m \u001b[1;33m==\u001b[0m \u001b[0mpytest\u001b[0m\u001b[1;33m.\u001b[0m\u001b[0mapprox\u001b[0m\u001b[1;33m(\u001b[0m\u001b[0mlist\u001b[0m\u001b[1;33m(\u001b[0m\u001b[0mexpected\u001b[0m\u001b[1;33m)\u001b[0m\u001b[1;33m,\u001b[0m \u001b[0mrel\u001b[0m\u001b[1;33m=\u001b[0m\u001b[1;36m1e-3\u001b[0m\u001b[1;33m)\u001b[0m\u001b[1;33m\u001b[0m\u001b[1;33m\u001b[0m\u001b[0m\n\u001b[0m",
      "\u001b[1;31mAssertionError\u001b[0m: "
     ]
    }
   ],
   "source": [
    "test_RidgeRegressionInThreeDim()"
   ]
  },
  {
   "cell_type": "code",
   "execution_count": 77,
   "id": "c48dba38",
   "metadata": {},
   "outputs": [],
   "source": [
    "def test_RidgeRegressionInOneDim2():\n",
    "    X = np.array([1,3,2,5]).reshape((4,1))\n",
    "    Y = np.array([2,5, 3, 8])\n",
    "    X_test = np.array([1,2,10]).reshape((3,1))\n",
    "    alpha = 0.3\n",
    "    expected = Ridge(alpha).fit(X, Y).predict(X_test)\n",
    "    actual = RidgeRegr(alpha).fit2(X, Y).predict(X_test)\n",
    "    print(\"Expected:\", expected)\n",
    "    print(\"Actual:\", actual)\n",
    "    assert list(actual) == pytest.approx(list(expected), rel=1e-5)\n",
    "\n",
    "def test_RidgeRegressionInThreeDim2():\n",
    "    X = np.array([1,2,3,5,4,5,4,3,3,3,2,5]).reshape((4,3))\n",
    "    Y = np.array([2,5, 3, 8])\n",
    "    X_test = np.array([1,0,0, 0,1,0, 0,0,1, 2,5,7, -2,0,3]).reshape((5,3))\n",
    "    alpha = 0.4\n",
    "    expected = Ridge(alpha).fit(X, Y).predict(X_test)\n",
    "    actual = RidgeRegr(alpha).fit2(X, Y).predict(X_test)\n",
    "    print(\"Expected:\", expected)\n",
    "    print(\"Actual:\", actual)\n",
    "    assert list(actual) == pytest.approx(list(expected), rel=1e-3)"
   ]
  },
  {
   "cell_type": "code",
   "execution_count": 78,
   "id": "ef27598b",
   "metadata": {},
   "outputs": [
    {
     "name": "stdout",
     "output_type": "stream",
     "text": [
      "Expected: [ 1.88950276  3.38121547 15.31491713]\n",
      "Actual: [ 1.88950276  3.38121547 15.31491713]\n"
     ]
    }
   ],
   "source": [
    "test_RidgeRegressionInOneDim2()"
   ]
  },
  {
   "cell_type": "code",
   "execution_count": 79,
   "id": "889c1ad8",
   "metadata": {},
   "outputs": [
    {
     "name": "stdout",
     "output_type": "stream",
     "text": [
      "Expected: [ 0.54685378 -1.76188321  1.58691716  5.15527388  3.66704391]\n",
      "Actual: [ 0.54685378 -1.76188321  1.58691716  5.15527388  3.66704391]\n"
     ]
    }
   ],
   "source": [
    "test_RidgeRegressionInThreeDim2()"
   ]
  },
  {
   "cell_type": "code",
   "execution_count": null,
   "id": "cc73d6f0",
   "metadata": {},
   "outputs": [],
   "source": []
  }
 ],
 "metadata": {
  "kernelspec": {
   "display_name": "Python 3",
   "language": "python",
   "name": "python3"
  },
  "language_info": {
   "codemirror_mode": {
    "name": "ipython",
    "version": 3
   },
   "file_extension": ".py",
   "mimetype": "text/x-python",
   "name": "python",
   "nbconvert_exporter": "python",
   "pygments_lexer": "ipython3",
   "version": "3.8.1"
  }
 },
 "nbformat": 4,
 "nbformat_minor": 5
}
